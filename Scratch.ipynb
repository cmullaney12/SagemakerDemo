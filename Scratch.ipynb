{
 "cells": [
  {
   "cell_type": "code",
   "execution_count": 55,
   "id": "574b6659",
   "metadata": {},
   "outputs": [],
   "source": [
    "import sagemaker as sg\n",
    "import pandas as pd"
   ]
  },
  {
   "cell_type": "code",
   "execution_count": 51,
   "id": "dc1e1c70",
   "metadata": {},
   "outputs": [],
   "source": [
    "from pyspark.sql.functions import *\n",
    "from pyspark.sql import SparkSession\n",
    "from pyspark import SQLContext"
   ]
  },
  {
   "cell_type": "markdown",
   "id": "5435ab60",
   "metadata": {},
   "source": [
    "## Copy test data locally"
   ]
  },
  {
   "cell_type": "code",
   "execution_count": 54,
   "id": "02a151f8",
   "metadata": {},
   "outputs": [
    {
     "name": "stdout",
     "output_type": "stream",
     "text": [
      "download: s3://623571303006-dev-model-training/output/test/part-00000-422a5ce9-e7d3-4f4e-9360-0fe04ac664c3-c000.csv to ./test.csv\n"
     ]
    }
   ],
   "source": [
    "! aws s3 cp s3://623571303006-dev-model-training/output/test/part-00000-422a5ce9-e7d3-4f4e-9360-0fe04ac664c3-c000.csv ./test.csv"
   ]
  },
  {
   "cell_type": "code",
   "execution_count": 61,
   "id": "9b58f3e2",
   "metadata": {},
   "outputs": [
    {
     "name": "stdout",
     "output_type": "stream",
     "text": [
      "download: s3://623571303006-dev-model-training/raw_data/classes.txt to ./classes.txt\n"
     ]
    }
   ],
   "source": [
    "! aws s3 cp s3://623571303006-dev-model-training/raw_data/classes.txt ."
   ]
  },
  {
   "cell_type": "code",
   "execution_count": 116,
   "id": "117d2055",
   "metadata": {},
   "outputs": [],
   "source": [
    "classes = pd.read_csv(\"classes.txt\", header=None, names=[\"class\"])\n",
    "classes['label'] = classes.index + 1\n",
    "test_data = pd.read_csv(\"test.csv\", header=None, names=[\"true_label\", \"text\"]).merge(classes, left_on=\"true_label\", right_on=\"label\", how=\"left\").drop(\"label\", axis=\"columns\")\n"
   ]
  },
  {
   "cell_type": "code",
   "execution_count": 117,
   "id": "65bb7b18",
   "metadata": {},
   "outputs": [
    {
     "data": {
      "text/html": [
       "<div>\n",
       "<style scoped>\n",
       "    .dataframe tbody tr th:only-of-type {\n",
       "        vertical-align: middle;\n",
       "    }\n",
       "\n",
       "    .dataframe tbody tr th {\n",
       "        vertical-align: top;\n",
       "    }\n",
       "\n",
       "    .dataframe thead th {\n",
       "        text-align: right;\n",
       "    }\n",
       "</style>\n",
       "<table border=\"1\" class=\"dataframe\">\n",
       "  <thead>\n",
       "    <tr style=\"text-align: right;\">\n",
       "      <th></th>\n",
       "      <th>true_label</th>\n",
       "      <th>text</th>\n",
       "      <th>class</th>\n",
       "    </tr>\n",
       "  </thead>\n",
       "  <tbody>\n",
       "    <tr>\n",
       "      <th>106616</th>\n",
       "      <td>2</td>\n",
       "      <td>wartburg theological seminary wartburg theolog...</td>\n",
       "      <td>EducationalInstitution</td>\n",
       "    </tr>\n",
       "    <tr>\n",
       "      <th>470588</th>\n",
       "      <td>3</td>\n",
       "      <td>tommy johnagin tommy johnagin born march 25 19...</td>\n",
       "      <td>Artist</td>\n",
       "    </tr>\n",
       "    <tr>\n",
       "      <th>377137</th>\n",
       "      <td>12</td>\n",
       "      <td>transition the first edition album transition ...</td>\n",
       "      <td>Album</td>\n",
       "    </tr>\n",
       "    <tr>\n",
       "      <th>334334</th>\n",
       "      <td>7</td>\n",
       "      <td>clara barton school clara barton school is a h...</td>\n",
       "      <td>Building</td>\n",
       "    </tr>\n",
       "    <tr>\n",
       "      <th>66583</th>\n",
       "      <td>12</td>\n",
       "      <td>focus 3 focus 3 is the third studio album from...</td>\n",
       "      <td>Album</td>\n",
       "    </tr>\n",
       "  </tbody>\n",
       "</table>\n",
       "</div>"
      ],
      "text/plain": [
       "        true_label                                               text  \\\n",
       "106616           2  wartburg theological seminary wartburg theolog...   \n",
       "470588           3  tommy johnagin tommy johnagin born march 25 19...   \n",
       "377137          12  transition the first edition album transition ...   \n",
       "334334           7  clara barton school clara barton school is a h...   \n",
       "66583           12  focus 3 focus 3 is the third studio album from...   \n",
       "\n",
       "                         class  \n",
       "106616  EducationalInstitution  \n",
       "470588                  Artist  \n",
       "377137                   Album  \n",
       "334334                Building  \n",
       "66583                    Album  "
      ]
     },
     "execution_count": 117,
     "metadata": {},
     "output_type": "execute_result"
    }
   ],
   "source": [
    "test_data.sample(frac=0.2).head()"
   ]
  },
  {
   "cell_type": "markdown",
   "id": "fc5ada48",
   "metadata": {},
   "source": [
    "## Run Model Predictor"
   ]
  },
  {
   "cell_type": "code",
   "execution_count": 118,
   "id": "85c2f90d",
   "metadata": {},
   "outputs": [],
   "source": [
    "endpoint = sg.predictor.Predictor(\"dev-bztext-dbpedia\", serializer=sg.serializers.JSONSerializer(), deserializer=sg.deserializers.JSONDeserializer())"
   ]
  },
  {
   "cell_type": "code",
   "execution_count": 120,
   "id": "345a812e",
   "metadata": {},
   "outputs": [],
   "source": [
    "resp = endpoint.predict({\"instances\": test_data[test_data.index < 1000]['text'].tolist()})"
   ]
  },
  {
   "cell_type": "code",
   "execution_count": 121,
   "id": "87a5c12a",
   "metadata": {},
   "outputs": [],
   "source": [
    "resp_cleaned = [{'label': r['label'][0].replace('__label__',''), 'prob':r['prob'][0]} for r in resp]"
   ]
  },
  {
   "cell_type": "code",
   "execution_count": 126,
   "id": "cfa83a46",
   "metadata": {},
   "outputs": [],
   "source": [
    "results = test_data[test_data.index < 1000].merge(pd.DataFrame(resp_cleaned), left_index=True, right_index=True)"
   ]
  },
  {
   "cell_type": "code",
   "execution_count": 128,
   "id": "dd4a1a2a",
   "metadata": {},
   "outputs": [
    {
     "data": {
      "text/html": [
       "<div>\n",
       "<style scoped>\n",
       "    .dataframe tbody tr th:only-of-type {\n",
       "        vertical-align: middle;\n",
       "    }\n",
       "\n",
       "    .dataframe tbody tr th {\n",
       "        vertical-align: top;\n",
       "    }\n",
       "\n",
       "    .dataframe thead th {\n",
       "        text-align: right;\n",
       "    }\n",
       "</style>\n",
       "<table border=\"1\" class=\"dataframe\">\n",
       "  <thead>\n",
       "    <tr style=\"text-align: right;\">\n",
       "      <th></th>\n",
       "      <th>true_label</th>\n",
       "      <th>text</th>\n",
       "      <th>class</th>\n",
       "      <th>label</th>\n",
       "      <th>prob</th>\n",
       "    </tr>\n",
       "  </thead>\n",
       "  <tbody>\n",
       "    <tr>\n",
       "      <th>802</th>\n",
       "      <td>4</td>\n",
       "      <td>daniel da silva born 1973 daniel da silva born...</td>\n",
       "      <td>Athlete</td>\n",
       "      <td>4</td>\n",
       "      <td>0.969495</td>\n",
       "    </tr>\n",
       "    <tr>\n",
       "      <th>455</th>\n",
       "      <td>3</td>\n",
       "      <td>kat edmonson katherine kat edmonson born augus...</td>\n",
       "      <td>Artist</td>\n",
       "      <td>3</td>\n",
       "      <td>0.957409</td>\n",
       "    </tr>\n",
       "    <tr>\n",
       "      <th>584</th>\n",
       "      <td>3</td>\n",
       "      <td>john silvester writer john silvester is an aus...</td>\n",
       "      <td>Artist</td>\n",
       "      <td>3</td>\n",
       "      <td>0.912039</td>\n",
       "    </tr>\n",
       "    <tr>\n",
       "      <th>766</th>\n",
       "      <td>4</td>\n",
       "      <td>ron east ronald allan east born august 26 1943...</td>\n",
       "      <td>Athlete</td>\n",
       "      <td>4</td>\n",
       "      <td>0.697741</td>\n",
       "    </tr>\n",
       "    <tr>\n",
       "      <th>692</th>\n",
       "      <td>4</td>\n",
       "      <td>anton n kinsk anton n kinsk born 31 may 1975 i...</td>\n",
       "      <td>Athlete</td>\n",
       "      <td>4</td>\n",
       "      <td>0.999292</td>\n",
       "    </tr>\n",
       "  </tbody>\n",
       "</table>\n",
       "</div>"
      ],
      "text/plain": [
       "     true_label                                               text    class  \\\n",
       "802           4  daniel da silva born 1973 daniel da silva born...  Athlete   \n",
       "455           3  kat edmonson katherine kat edmonson born augus...   Artist   \n",
       "584           3  john silvester writer john silvester is an aus...   Artist   \n",
       "766           4  ron east ronald allan east born august 26 1943...  Athlete   \n",
       "692           4  anton n kinsk anton n kinsk born 31 may 1975 i...  Athlete   \n",
       "\n",
       "    label      prob  \n",
       "802     4  0.969495  \n",
       "455     3  0.957409  \n",
       "584     3  0.912039  \n",
       "766     4  0.697741  \n",
       "692     4  0.999292  "
      ]
     },
     "execution_count": 128,
     "metadata": {},
     "output_type": "execute_result"
    }
   ],
   "source": [
    "results.sample(frac=0.1).head()"
   ]
  },
  {
   "cell_type": "markdown",
   "id": "a9f44015",
   "metadata": {},
   "source": [
    "## Batch Transform Job"
   ]
  },
  {
   "cell_type": "code",
   "execution_count": 136,
   "id": "d3cd7188",
   "metadata": {},
   "outputs": [
    {
     "name": "stdout",
     "output_type": "stream",
     "text": [
      "..............................\n",
      "\u001b[34mArguments: serve\u001b[0m\n",
      "\u001b[34m[03/15/2022 02:32:52 INFO 140114531981120] Finding and loading model\u001b[0m\n",
      "\u001b[34m[03/15/2022 02:32:52 INFO 140114531981120] Trying to load model from /opt/ml/model/model.bin\u001b[0m\n",
      "\u001b[34m[03/15/2022 02:32:52 INFO 140114531981120] Number of server workers: 4\u001b[0m\n",
      "\u001b[34m[2022-03-15 02:32:52 +0000] [1] [INFO] Starting gunicorn 19.7.1\u001b[0m\n",
      "\u001b[34m[2022-03-15 02:32:52 +0000] [1] [INFO] Listening at: http://0.0.0.0:8080 (1)\u001b[0m\n",
      "\u001b[34m[2022-03-15 02:32:52 +0000] [1] [INFO] Using worker: sync\u001b[0m\n",
      "\u001b[34m[2022-03-15 02:32:52 +0000] [34] [INFO] Booting worker with pid: 34\u001b[0m\n",
      "\u001b[34m[2022-03-15 02:32:52 +0000] [35] [INFO] Booting worker with pid: 35\u001b[0m\n",
      "\u001b[34m[2022-03-15 02:32:52 +0000] [36] [INFO] Booting worker with pid: 36\u001b[0m\n",
      "\u001b[34m[2022-03-15 02:32:52 +0000] [37] [INFO] Booting worker with pid: 37\u001b[0m\n",
      "\u001b[35mArguments: serve\u001b[0m\n",
      "\u001b[35m[03/15/2022 02:32:57 INFO 140002674067264] Finding and loading model\u001b[0m\n",
      "\u001b[35m[03/15/2022 02:32:57 INFO 140002674067264] Trying to load model from /opt/ml/model/model.bin\u001b[0m\n",
      "\u001b[35m[03/15/2022 02:32:58 INFO 140002674067264] Number of server workers: 4\u001b[0m\n",
      "\u001b[35m[2022-03-15 02:32:58 +0000] [1] [INFO] Starting gunicorn 19.7.1\u001b[0m\n",
      "\u001b[35m[2022-03-15 02:32:58 +0000] [1] [INFO] Listening at: http://0.0.0.0:8080 (1)\u001b[0m\n",
      "\u001b[35m[2022-03-15 02:32:58 +0000] [1] [INFO] Using worker: sync\u001b[0m\n",
      "\u001b[35m[2022-03-15 02:32:58 +0000] [35] [INFO] Booting worker with pid: 35\u001b[0m\n",
      "\u001b[35m[2022-03-15 02:32:58 +0000] [36] [INFO] Booting worker with pid: 36\u001b[0m\n",
      "\u001b[35m[2022-03-15 02:32:58 +0000] [37] [INFO] Booting worker with pid: 37\u001b[0m\n",
      "\u001b[35m[2022-03-15 02:32:58 +0000] [38] [INFO] Booting worker with pid: 38\u001b[0m\n",
      "\u001b[35m2022-03-15T02:33:02.713:[sagemaker logs]: MaxConcurrentTransforms=4, MaxPayloadInMB=6, BatchStrategy=MULTI_RECORD\u001b[0m\n",
      "\u001b[36m2022-03-15T02:33:02.713:[sagemaker logs]: MaxConcurrentTransforms=4, MaxPayloadInMB=6, BatchStrategy=MULTI_RECORD\u001b[0m\n",
      "\u001b[34m2022-03-15T02:33:02.337:[sagemaker logs]: MaxConcurrentTransforms=4, MaxPayloadInMB=6, BatchStrategy=MULTI_RECORD\u001b[0m\n",
      "\u001b[34m2022-03-15T02:33:02.941:[sagemaker logs]: 623571303006-dev-model-training/output/validate/part-00000-c4409ad6-c7cc-4a30-bf08-f2f3ac86cb6a-c000.csv: ClientError: 415\u001b[0m\n",
      "\u001b[34m2022-03-15T02:33:02.941:[sagemaker logs]: 623571303006-dev-model-training/output/validate/part-00000-c4409ad6-c7cc-4a30-bf08-f2f3ac86cb6a-c000.csv: \u001b[0m\n",
      "\u001b[34m2022-03-15T02:33:02.942:[sagemaker logs]: 623571303006-dev-model-training/output/validate/part-00000-c4409ad6-c7cc-4a30-bf08-f2f3ac86cb6a-c000.csv: Message:\u001b[0m\n",
      "\u001b[34m2022-03-15T02:33:02.942:[sagemaker logs]: 623571303006-dev-model-training/output/validate/part-00000-c4409ad6-c7cc-4a30-bf08-f2f3ac86cb6a-c000.csv: content-type text/csv not supported\u001b[0m\n",
      "\u001b[34m2022-03-15T02:33:02.942:[sagemaker logs]: 623571303006-dev-model-training/output/validate/part-00000-c4409ad6-c7cc-4a30-bf08-f2f3ac86cb6a-c000.csv: ClientError: 415\u001b[0m\n",
      "\u001b[34m2022-03-15T02:33:02.942:[sagemaker logs]: 623571303006-dev-model-training/output/validate/part-00000-c4409ad6-c7cc-4a30-bf08-f2f3ac86cb6a-c000.csv: \u001b[0m\n",
      "\u001b[34m2022-03-15T02:33:02.942:[sagemaker logs]: 623571303006-dev-model-training/output/validate/part-00000-c4409ad6-c7cc-4a30-bf08-f2f3ac86cb6a-c000.csv: Message:\u001b[0m\n",
      "\u001b[34m2022-03-15T02:33:02.942:[sagemaker logs]: 623571303006-dev-model-training/output/validate/part-00000-c4409ad6-c7cc-4a30-bf08-f2f3ac86cb6a-c000.csv: content-type text/csv not supported\u001b[0m\n"
     ]
    },
    {
     "ename": "UnexpectedStatusException",
     "evalue": "Error for Transform job blazingtext-2022-03-15-02-28-05-918: Failed. Reason: ClientError: See job logs for more information",
     "output_type": "error",
     "traceback": [
      "\u001b[0;31m---------------------------------------------------------------------------\u001b[0m",
      "\u001b[0;31mUnexpectedStatusException\u001b[0m                 Traceback (most recent call last)",
      "\u001b[0;32m<ipython-input-136-e42d8e623cbc>\u001b[0m in \u001b[0;36m<module>\u001b[0;34m\u001b[0m\n\u001b[1;32m      7\u001b[0m \u001b[0;31m#     assemble_with=\"Line\",\u001b[0m\u001b[0;34m\u001b[0m\u001b[0;34m\u001b[0m\u001b[0;34m\u001b[0m\u001b[0m\n\u001b[1;32m      8\u001b[0m )\n\u001b[0;32m----> 9\u001b[0;31m \u001b[0mtest_transformer\u001b[0m\u001b[0;34m.\u001b[0m\u001b[0mtransform\u001b[0m\u001b[0;34m(\u001b[0m\u001b[0;34m\"s3://623571303006-dev-model-training/output/validate\"\u001b[0m\u001b[0;34m,\u001b[0m \u001b[0msplit_type\u001b[0m\u001b[0;34m=\u001b[0m\u001b[0;34m\"Line\"\u001b[0m\u001b[0;34m,\u001b[0m \u001b[0mcontent_type\u001b[0m\u001b[0;34m=\u001b[0m\u001b[0;34m\"text/csv\"\u001b[0m\u001b[0;34m)\u001b[0m\u001b[0;34m\u001b[0m\u001b[0;34m\u001b[0m\u001b[0m\n\u001b[0m\u001b[1;32m     10\u001b[0m \u001b[0mtest_transformer\u001b[0m\u001b[0;34m.\u001b[0m\u001b[0mwait\u001b[0m\u001b[0;34m(\u001b[0m\u001b[0;34m)\u001b[0m\u001b[0;34m\u001b[0m\u001b[0;34m\u001b[0m\u001b[0m\n",
      "\u001b[0;32m~/anaconda3/envs/python3/lib/python3.6/site-packages/sagemaker/transformer.py\u001b[0m in \u001b[0;36mtransform\u001b[0;34m(self, data, data_type, content_type, compression_type, split_type, job_name, input_filter, output_filter, join_source, experiment_config, model_client_config, wait, logs)\u001b[0m\n\u001b[1;32m    223\u001b[0m \u001b[0;34m\u001b[0m\u001b[0m\n\u001b[1;32m    224\u001b[0m         \u001b[0;32mif\u001b[0m \u001b[0mwait\u001b[0m\u001b[0;34m:\u001b[0m\u001b[0;34m\u001b[0m\u001b[0;34m\u001b[0m\u001b[0m\n\u001b[0;32m--> 225\u001b[0;31m             \u001b[0mself\u001b[0m\u001b[0;34m.\u001b[0m\u001b[0mlatest_transform_job\u001b[0m\u001b[0;34m.\u001b[0m\u001b[0mwait\u001b[0m\u001b[0;34m(\u001b[0m\u001b[0mlogs\u001b[0m\u001b[0;34m=\u001b[0m\u001b[0mlogs\u001b[0m\u001b[0;34m)\u001b[0m\u001b[0;34m\u001b[0m\u001b[0;34m\u001b[0m\u001b[0m\n\u001b[0m\u001b[1;32m    226\u001b[0m \u001b[0;34m\u001b[0m\u001b[0m\n\u001b[1;32m    227\u001b[0m     \u001b[0;32mdef\u001b[0m \u001b[0mdelete_model\u001b[0m\u001b[0;34m(\u001b[0m\u001b[0mself\u001b[0m\u001b[0;34m)\u001b[0m\u001b[0;34m:\u001b[0m\u001b[0;34m\u001b[0m\u001b[0;34m\u001b[0m\u001b[0m\n",
      "\u001b[0;32m~/anaconda3/envs/python3/lib/python3.6/site-packages/sagemaker/transformer.py\u001b[0m in \u001b[0;36mwait\u001b[0;34m(self, logs)\u001b[0m\n\u001b[1;32m    419\u001b[0m     \u001b[0;32mdef\u001b[0m \u001b[0mwait\u001b[0m\u001b[0;34m(\u001b[0m\u001b[0mself\u001b[0m\u001b[0;34m,\u001b[0m \u001b[0mlogs\u001b[0m\u001b[0;34m=\u001b[0m\u001b[0;32mTrue\u001b[0m\u001b[0;34m)\u001b[0m\u001b[0;34m:\u001b[0m\u001b[0;34m\u001b[0m\u001b[0;34m\u001b[0m\u001b[0m\n\u001b[1;32m    420\u001b[0m         \u001b[0;32mif\u001b[0m \u001b[0mlogs\u001b[0m\u001b[0;34m:\u001b[0m\u001b[0;34m\u001b[0m\u001b[0;34m\u001b[0m\u001b[0m\n\u001b[0;32m--> 421\u001b[0;31m             \u001b[0mself\u001b[0m\u001b[0;34m.\u001b[0m\u001b[0msagemaker_session\u001b[0m\u001b[0;34m.\u001b[0m\u001b[0mlogs_for_transform_job\u001b[0m\u001b[0;34m(\u001b[0m\u001b[0mself\u001b[0m\u001b[0;34m.\u001b[0m\u001b[0mjob_name\u001b[0m\u001b[0;34m,\u001b[0m \u001b[0mwait\u001b[0m\u001b[0;34m=\u001b[0m\u001b[0;32mTrue\u001b[0m\u001b[0;34m)\u001b[0m\u001b[0;34m\u001b[0m\u001b[0;34m\u001b[0m\u001b[0m\n\u001b[0m\u001b[1;32m    422\u001b[0m         \u001b[0;32melse\u001b[0m\u001b[0;34m:\u001b[0m\u001b[0;34m\u001b[0m\u001b[0;34m\u001b[0m\u001b[0m\n\u001b[1;32m    423\u001b[0m             \u001b[0mself\u001b[0m\u001b[0;34m.\u001b[0m\u001b[0msagemaker_session\u001b[0m\u001b[0;34m.\u001b[0m\u001b[0mwait_for_transform_job\u001b[0m\u001b[0;34m(\u001b[0m\u001b[0mself\u001b[0m\u001b[0;34m.\u001b[0m\u001b[0mjob_name\u001b[0m\u001b[0;34m)\u001b[0m\u001b[0;34m\u001b[0m\u001b[0;34m\u001b[0m\u001b[0m\n",
      "\u001b[0;32m~/anaconda3/envs/python3/lib/python3.6/site-packages/sagemaker/session.py\u001b[0m in \u001b[0;36mlogs_for_transform_job\u001b[0;34m(self, job_name, wait, poll)\u001b[0m\n\u001b[1;32m   3921\u001b[0m \u001b[0;34m\u001b[0m\u001b[0m\n\u001b[1;32m   3922\u001b[0m         \u001b[0;32mif\u001b[0m \u001b[0mwait\u001b[0m\u001b[0;34m:\u001b[0m\u001b[0;34m\u001b[0m\u001b[0;34m\u001b[0m\u001b[0m\n\u001b[0;32m-> 3923\u001b[0;31m             \u001b[0mself\u001b[0m\u001b[0;34m.\u001b[0m\u001b[0m_check_job_status\u001b[0m\u001b[0;34m(\u001b[0m\u001b[0mjob_name\u001b[0m\u001b[0;34m,\u001b[0m \u001b[0mdescription\u001b[0m\u001b[0;34m,\u001b[0m \u001b[0;34m\"TransformJobStatus\"\u001b[0m\u001b[0;34m)\u001b[0m\u001b[0;34m\u001b[0m\u001b[0;34m\u001b[0m\u001b[0m\n\u001b[0m\u001b[1;32m   3924\u001b[0m             \u001b[0;32mif\u001b[0m \u001b[0mdot\u001b[0m\u001b[0;34m:\u001b[0m\u001b[0;34m\u001b[0m\u001b[0;34m\u001b[0m\u001b[0m\n\u001b[1;32m   3925\u001b[0m                 \u001b[0mprint\u001b[0m\u001b[0;34m(\u001b[0m\u001b[0;34m)\u001b[0m\u001b[0;34m\u001b[0m\u001b[0;34m\u001b[0m\u001b[0m\n",
      "\u001b[0;32m~/anaconda3/envs/python3/lib/python3.6/site-packages/sagemaker/session.py\u001b[0m in \u001b[0;36m_check_job_status\u001b[0;34m(self, job, desc, status_key_name)\u001b[0m\n\u001b[1;32m   3304\u001b[0m                 ),\n\u001b[1;32m   3305\u001b[0m                 \u001b[0mallowed_statuses\u001b[0m\u001b[0;34m=\u001b[0m\u001b[0;34m[\u001b[0m\u001b[0;34m\"Completed\"\u001b[0m\u001b[0;34m,\u001b[0m \u001b[0;34m\"Stopped\"\u001b[0m\u001b[0;34m]\u001b[0m\u001b[0;34m,\u001b[0m\u001b[0;34m\u001b[0m\u001b[0;34m\u001b[0m\u001b[0m\n\u001b[0;32m-> 3306\u001b[0;31m                 \u001b[0mactual_status\u001b[0m\u001b[0;34m=\u001b[0m\u001b[0mstatus\u001b[0m\u001b[0;34m,\u001b[0m\u001b[0;34m\u001b[0m\u001b[0;34m\u001b[0m\u001b[0m\n\u001b[0m\u001b[1;32m   3307\u001b[0m             )\n\u001b[1;32m   3308\u001b[0m \u001b[0;34m\u001b[0m\u001b[0m\n",
      "\u001b[0;31mUnexpectedStatusException\u001b[0m: Error for Transform job blazingtext-2022-03-15-02-28-05-918: Failed. Reason: ClientError: See job logs for more information"
     ]
    }
   ],
   "source": [
    "test_transformer = sg.transformer.Transformer(\n",
    "    \"dev-bztext-dbpedia\",\n",
    "    2,\n",
    "    \"ml.m4.xlarge\",\n",
    "    output_path=\"s3://623571303006-dev-model-training/preds/validate\",\n",
    "    strategy=\"MultiRecord\",\n",
    ")\n",
    "test_transformer.transform(\"s3://623571303006-dev-model-training/output/validate\", split_type=\"Line\", content_type=\"text/csv\")\n",
    "test_transformer.wait()"
   ]
  },
  {
   "cell_type": "code",
   "execution_count": null,
   "id": "0230a333",
   "metadata": {},
   "outputs": [],
   "source": [
    "! aws s3 cp s3://623571303006-dev-model-training/preds/validate ."
   ]
  }
 ],
 "metadata": {
  "kernelspec": {
   "display_name": "conda_python3",
   "language": "python",
   "name": "conda_python3"
  },
  "language_info": {
   "codemirror_mode": {
    "name": "ipython",
    "version": 3
   },
   "file_extension": ".py",
   "mimetype": "text/x-python",
   "name": "python",
   "nbconvert_exporter": "python",
   "pygments_lexer": "ipython3",
   "version": "3.6.13"
  }
 },
 "nbformat": 4,
 "nbformat_minor": 5
}
