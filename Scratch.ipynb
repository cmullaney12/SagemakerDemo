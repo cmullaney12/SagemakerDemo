{
 "cells": [
  {
   "cell_type": "code",
   "execution_count": 55,
   "id": "988cd9b6",
   "metadata": {},
   "outputs": [],
   "source": [
    "import sagemaker as sg\n",
    "import pandas as pd"
   ]
  },
  {
   "cell_type": "code",
   "execution_count": 51,
   "id": "504c6a25",
   "metadata": {},
   "outputs": [],
   "source": [
    "from pyspark.sql.functions import *\n",
    "from pyspark.sql import SparkSession\n",
    "from pyspark import SQLContext"
   ]
  },
  {
   "cell_type": "code",
   "execution_count": 54,
   "id": "75016949",
   "metadata": {},
   "outputs": [
    {
     "name": "stdout",
     "output_type": "stream",
     "text": [
      "download: s3://623571303006-dev-model-training/output/test/part-00000-422a5ce9-e7d3-4f4e-9360-0fe04ac664c3-c000.csv to ./test.csv\n"
     ]
    }
   ],
   "source": [
    "! aws s3 cp s3://623571303006-dev-model-training/output/test/part-00000-422a5ce9-e7d3-4f4e-9360-0fe04ac664c3-c000.csv ./test.csv"
   ]
  },
  {
   "cell_type": "code",
   "execution_count": 61,
   "id": "ff0ab11d",
   "metadata": {},
   "outputs": [
    {
     "name": "stdout",
     "output_type": "stream",
     "text": [
      "download: s3://623571303006-dev-model-training/raw_data/classes.txt to ./classes.txt\n"
     ]
    }
   ],
   "source": [
    "! aws s3 cp s3://623571303006-dev-model-training/raw_data/classes.txt ."
   ]
  },
  {
   "cell_type": "code",
   "execution_count": 116,
   "id": "09e3c3f9",
   "metadata": {},
   "outputs": [],
   "source": [
    "classes = pd.read_csv(\"classes.txt\", header=None, names=[\"class\"])\n",
    "classes['label'] = classes.index + 1\n",
    "test_data = pd.read_csv(\"test.csv\", header=None, names=[\"true_label\", \"text\"]).merge(classes, left_on=\"true_label\", right_on=\"label\", how=\"left\").drop(\"label\", axis=\"columns\")\n"
   ]
  },
  {
   "cell_type": "code",
   "execution_count": 117,
   "id": "ebc9d42d",
   "metadata": {},
   "outputs": [
    {
     "data": {
      "text/html": [
       "<div>\n",
       "<style scoped>\n",
       "    .dataframe tbody tr th:only-of-type {\n",
       "        vertical-align: middle;\n",
       "    }\n",
       "\n",
       "    .dataframe tbody tr th {\n",
       "        vertical-align: top;\n",
       "    }\n",
       "\n",
       "    .dataframe thead th {\n",
       "        text-align: right;\n",
       "    }\n",
       "</style>\n",
       "<table border=\"1\" class=\"dataframe\">\n",
       "  <thead>\n",
       "    <tr style=\"text-align: right;\">\n",
       "      <th></th>\n",
       "      <th>true_label</th>\n",
       "      <th>text</th>\n",
       "      <th>class</th>\n",
       "    </tr>\n",
       "  </thead>\n",
       "  <tbody>\n",
       "    <tr>\n",
       "      <th>106616</th>\n",
       "      <td>2</td>\n",
       "      <td>wartburg theological seminary wartburg theolog...</td>\n",
       "      <td>EducationalInstitution</td>\n",
       "    </tr>\n",
       "    <tr>\n",
       "      <th>470588</th>\n",
       "      <td>3</td>\n",
       "      <td>tommy johnagin tommy johnagin born march 25 19...</td>\n",
       "      <td>Artist</td>\n",
       "    </tr>\n",
       "    <tr>\n",
       "      <th>377137</th>\n",
       "      <td>12</td>\n",
       "      <td>transition the first edition album transition ...</td>\n",
       "      <td>Album</td>\n",
       "    </tr>\n",
       "    <tr>\n",
       "      <th>334334</th>\n",
       "      <td>7</td>\n",
       "      <td>clara barton school clara barton school is a h...</td>\n",
       "      <td>Building</td>\n",
       "    </tr>\n",
       "    <tr>\n",
       "      <th>66583</th>\n",
       "      <td>12</td>\n",
       "      <td>focus 3 focus 3 is the third studio album from...</td>\n",
       "      <td>Album</td>\n",
       "    </tr>\n",
       "  </tbody>\n",
       "</table>\n",
       "</div>"
      ],
      "text/plain": [
       "        true_label                                               text  \\\n",
       "106616           2  wartburg theological seminary wartburg theolog...   \n",
       "470588           3  tommy johnagin tommy johnagin born march 25 19...   \n",
       "377137          12  transition the first edition album transition ...   \n",
       "334334           7  clara barton school clara barton school is a h...   \n",
       "66583           12  focus 3 focus 3 is the third studio album from...   \n",
       "\n",
       "                         class  \n",
       "106616  EducationalInstitution  \n",
       "470588                  Artist  \n",
       "377137                   Album  \n",
       "334334                Building  \n",
       "66583                    Album  "
      ]
     },
     "execution_count": 117,
     "metadata": {},
     "output_type": "execute_result"
    }
   ],
   "source": [
    "test_data.sample(frac=0.2).head()"
   ]
  },
  {
   "cell_type": "code",
   "execution_count": 118,
   "id": "fe74660d",
   "metadata": {},
   "outputs": [],
   "source": [
    "endpoint = sg.predictor.Predictor(\"dev-bztext-dbpedia\", serializer=sg.serializers.JSONSerializer(), deserializer=sg.deserializers.JSONDeserializer())"
   ]
  },
  {
   "cell_type": "code",
   "execution_count": 120,
   "id": "68f2a614",
   "metadata": {},
   "outputs": [],
   "source": [
    "resp = endpoint.predict({\"instances\": test_data[test_data.index < 1000]['text'].tolist()})"
   ]
  },
  {
   "cell_type": "code",
   "execution_count": 121,
   "id": "7dd24672",
   "metadata": {},
   "outputs": [],
   "source": [
    "resp_cleaned = [{'label': r['label'][0].replace('__label__',''), 'prob':r['prob'][0]} for r in resp]"
   ]
  },
  {
   "cell_type": "code",
   "execution_count": 126,
   "id": "3ebd361d",
   "metadata": {},
   "outputs": [],
   "source": [
    "results = test_data[test_data.index < 1000].merge(pd.DataFrame(resp_cleaned), left_index=True, right_index=True)"
   ]
  },
  {
   "cell_type": "code",
   "execution_count": 128,
   "id": "c019d77c",
   "metadata": {},
   "outputs": [
    {
     "data": {
      "text/html": [
       "<div>\n",
       "<style scoped>\n",
       "    .dataframe tbody tr th:only-of-type {\n",
       "        vertical-align: middle;\n",
       "    }\n",
       "\n",
       "    .dataframe tbody tr th {\n",
       "        vertical-align: top;\n",
       "    }\n",
       "\n",
       "    .dataframe thead th {\n",
       "        text-align: right;\n",
       "    }\n",
       "</style>\n",
       "<table border=\"1\" class=\"dataframe\">\n",
       "  <thead>\n",
       "    <tr style=\"text-align: right;\">\n",
       "      <th></th>\n",
       "      <th>true_label</th>\n",
       "      <th>text</th>\n",
       "      <th>class</th>\n",
       "      <th>label</th>\n",
       "      <th>prob</th>\n",
       "    </tr>\n",
       "  </thead>\n",
       "  <tbody>\n",
       "    <tr>\n",
       "      <th>802</th>\n",
       "      <td>4</td>\n",
       "      <td>daniel da silva born 1973 daniel da silva born...</td>\n",
       "      <td>Athlete</td>\n",
       "      <td>4</td>\n",
       "      <td>0.969495</td>\n",
       "    </tr>\n",
       "    <tr>\n",
       "      <th>455</th>\n",
       "      <td>3</td>\n",
       "      <td>kat edmonson katherine kat edmonson born augus...</td>\n",
       "      <td>Artist</td>\n",
       "      <td>3</td>\n",
       "      <td>0.957409</td>\n",
       "    </tr>\n",
       "    <tr>\n",
       "      <th>584</th>\n",
       "      <td>3</td>\n",
       "      <td>john silvester writer john silvester is an aus...</td>\n",
       "      <td>Artist</td>\n",
       "      <td>3</td>\n",
       "      <td>0.912039</td>\n",
       "    </tr>\n",
       "    <tr>\n",
       "      <th>766</th>\n",
       "      <td>4</td>\n",
       "      <td>ron east ronald allan east born august 26 1943...</td>\n",
       "      <td>Athlete</td>\n",
       "      <td>4</td>\n",
       "      <td>0.697741</td>\n",
       "    </tr>\n",
       "    <tr>\n",
       "      <th>692</th>\n",
       "      <td>4</td>\n",
       "      <td>anton n kinsk anton n kinsk born 31 may 1975 i...</td>\n",
       "      <td>Athlete</td>\n",
       "      <td>4</td>\n",
       "      <td>0.999292</td>\n",
       "    </tr>\n",
       "  </tbody>\n",
       "</table>\n",
       "</div>"
      ],
      "text/plain": [
       "     true_label                                               text    class  \\\n",
       "802           4  daniel da silva born 1973 daniel da silva born...  Athlete   \n",
       "455           3  kat edmonson katherine kat edmonson born augus...   Artist   \n",
       "584           3  john silvester writer john silvester is an aus...   Artist   \n",
       "766           4  ron east ronald allan east born august 26 1943...  Athlete   \n",
       "692           4  anton n kinsk anton n kinsk born 31 may 1975 i...  Athlete   \n",
       "\n",
       "    label      prob  \n",
       "802     4  0.969495  \n",
       "455     3  0.957409  \n",
       "584     3  0.912039  \n",
       "766     4  0.697741  \n",
       "692     4  0.999292  "
      ]
     },
     "execution_count": 128,
     "metadata": {},
     "output_type": "execute_result"
    }
   ],
   "source": [
    "results.sample(frac=0.1).head()"
   ]
  },
  {
   "cell_type": "code",
   "execution_count": null,
   "id": "fec454d6",
   "metadata": {},
   "outputs": [],
   "source": []
  }
 ],
 "metadata": {
  "kernelspec": {
   "display_name": "conda_python3",
   "language": "python",
   "name": "conda_python3"
  },
  "language_info": {
   "codemirror_mode": {
    "name": "ipython",
    "version": 3
   },
   "file_extension": ".py",
   "mimetype": "text/x-python",
   "name": "python",
   "nbconvert_exporter": "python",
   "pygments_lexer": "ipython3",
   "version": "3.6.13"
  }
 },
 "nbformat": 4,
 "nbformat_minor": 5
}
